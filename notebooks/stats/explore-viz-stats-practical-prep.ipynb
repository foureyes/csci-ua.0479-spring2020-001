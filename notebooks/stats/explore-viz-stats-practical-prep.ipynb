{
 "cells": [
  {
   "cell_type": "markdown",
   "metadata": {},
   "source": [
    "# Descriptive Statistics, Generator Practice\n",
    "\n",
    "GISS Temp Data:\n",
    "\n",
    "* [home](https://data.giss.nasa.gov/gistemp/)\n",
    "* [as text file](https://data.giss.nasa.gov/gistemp/tabledata_v4/GLB.Ts+dSST.txt)\n",
    "* [as csv](https://data.giss.nasa.gov/gistemp/tabledata_v4/GLB.Ts+dSST.csv)\n",
    "* [faq (why anomaly rather than absolute temp)](https://data.giss.nasa.gov/gistemp/faq/)\n",
    "* [absolute varies in short distance](https://data.giss.nasa.gov/gistemp/faq/abs_temp.html)\n",
    "* [example plot](https://data.giss.nasa.gov/gistemp/faq/)\n",
    "\n",
    "1. discuss line graphs\n",
    "2. discuss scatter plots\n",
    "3. best fit line\n",
    "\n",
    "\n",
    "\n"
   ]
  },
  {
   "cell_type": "code",
   "execution_count": 4,
   "metadata": {},
   "outputs": [
    {
     "data": {
      "text/plain": [
       "(0, 12)"
      ]
     },
     "execution_count": 4,
     "metadata": {},
     "output_type": "execute_result"
    },
    {
     "data": {
      "image/png": "[encoded data removed]",
      "text/plain": [
       "<Figure size 432x288 with 1 Axes>"
      ]
     },
     "metadata": {
      "needs_background": "light"
     },
     "output_type": "display_data"
    }
   ],
   "source": [
    "# https://stackoverflow.com/questions/6148207/linear-regression-with-matplotlib-numpy\n",
    "\n",
    "import numpy as np\n",
    "import matplotlib.pyplot as plt\n",
    "\n",
    "x = [1,2,3,4]\n",
    "y = [3,5,7,10] # 10, not 9, so the fit isn't perfect\n",
    "\n",
    "coef = np.polyfit(x,y,1)\n",
    "poly1d_fn = np.poly1d(coef) \n",
    "# poly1d_fn is now a function which takes in x and returns an estimate for y\n",
    "\n",
    "plt.scatter(x, y)\n",
    "plt.plot(x, poly1d_fn(x), '--k')\n",
    "plt.xlim(0, 5)\n",
    "plt.ylim(0, 12)"
   ]
  },
  {
   "cell_type": "markdown",
   "metadata": {},
   "source": [
    "## Example Generator\n",
    "\n",
    "Calling the following function does not require entire contents of file (or even entire column) to be read into memory; instead, calorie value is read as needed."
   ]
  },
  {
   "cell_type": "code",
   "execution_count": 14,
   "metadata": {},
   "outputs": [],
   "source": [
    "# create generator function to read in \n",
    "# calorie column\n",
    "def get_calories():\n",
    "    with open('starbucks_drinkMenu_expanded.csv', 'r') as f:\n",
    "        next(f)\n",
    "        for line in f:\n",
    "            line_parts = line.split(',')\n",
    "            yield int(line_parts[3])\n"
   ]
  },
  {
   "cell_type": "markdown",
   "metadata": {},
   "source": [
    "## Descriptive Statistics\n",
    "\n",
    "### Max, Min, and Len\n",
    "\n",
    "It may be useful to describe a data set by:\n",
    "\n",
    "* the number of data points\n",
    "* the highest and lowest value\n",
    "\n",
    "There are built in functions in Python to do this, like `max`, `min`, and `len`"
   ]
  },
  {
   "cell_type": "code",
   "execution_count": 15,
   "metadata": {},
   "outputs": [
    {
     "data": {
      "text/plain": [
       "510"
      ]
     },
     "execution_count": 15,
     "metadata": {},
     "output_type": "execute_result"
    }
   ],
   "source": [
    "# max and min can actually take a generator \n",
    "max(get_calories())"
   ]
  },
  {
   "cell_type": "code",
   "execution_count": 8,
   "metadata": {},
   "outputs": [
    {
     "data": {
      "text/plain": [
       "0"
      ]
     },
     "execution_count": 8,
     "metadata": {},
     "output_type": "execute_result"
    }
   ],
   "source": [
    "min(get_calories())"
   ]
  },
  {
   "cell_type": "markdown",
   "metadata": {},
   "source": [
    "A generator is not actually a _collection_ of elements, so you can't use `len` on it. Instead, you'll have to turn your generator into a collection..."
   ]
  },
  {
   "cell_type": "code",
   "execution_count": 9,
   "metadata": {},
   "outputs": [],
   "source": [
    "# if we want to work with all values from our generator, we can convert to a list \n",
    "# (that means all values are in memory, tho)\n",
    "calories = list(get_calories())"
   ]
  },
  {
   "cell_type": "code",
   "execution_count": 16,
   "metadata": {},
   "outputs": [
    {
     "data": {
      "text/plain": [
       "242"
      ]
     },
     "execution_count": 16,
     "metadata": {},
     "output_type": "execute_result"
    }
   ],
   "source": [
    "# now it's possible to get the length of our data set\n",
    "len(calories)"
   ]
  },
  {
   "cell_type": "code",
   "execution_count": 18,
   "metadata": {},
   "outputs": [
    {
     "data": {
      "text/plain": [
       "[3, 4, 5, 5, 70, 100, 70, 100, 150, 110]"
      ]
     },
     "execution_count": 18,
     "metadata": {},
     "output_type": "execute_result"
    }
   ],
   "source": [
    "# because it's a list we can view the first 10 values with slicing\n",
    "calories[:10]"
   ]
  },
  {
   "cell_type": "code",
   "execution_count": 19,
   "metadata": {},
   "outputs": [
    {
     "data": {
      "text/plain": [
       "[230, 260, 240, 310, 350, 320, 170, 200, 180, 240]"
      ]
     },
     "execution_count": 19,
     "metadata": {},
     "output_type": "execute_result"
    }
   ],
   "source": [
    "# ...and the last 10 values\n",
    "calories[-10:]"
   ]
  },
  {
   "cell_type": "markdown",
   "metadata": {},
   "source": [
    "### Central Tendency\n",
    "\n",
    "Two methods of determining where our data set is centered are:\n",
    "\n",
    "1. mean\n",
    "2. median"
   ]
  },
  {
   "cell_type": "code",
   "execution_count": 5,
   "metadata": {},
   "outputs": [
    {
     "data": {
      "text/plain": [
       "3.0"
      ]
     },
     "execution_count": 5,
     "metadata": {},
     "output_type": "execute_result"
    }
   ],
   "source": [
    "mean = lambda li: sum(li) / len(li)\n",
    "mean([1, 2, 3, 4, 5])"
   ]
  },
  {
   "cell_type": "code",
   "execution_count": 9,
   "metadata": {},
   "outputs": [
    {
     "name": "stdout",
     "output_type": "stream",
     "text": [
      "3\n",
      "4.0\n"
     ]
    }
   ],
   "source": [
    "def median(li):\n",
    "    li.sort()\n",
    "    i = len(li) // 2\n",
    "    if len(li) % 2 == 1:\n",
    "        ret =  li[i]\n",
    "    else:\n",
    "        ret = mean(li[i - 1:i + 1])\n",
    "    return ret\n",
    "\n",
    "print(median([1, 2, 3, 4, 5]))\n",
    "print(median([1, 2, 3, 5, 6, 7]))"
   ]
  },
  {
   "cell_type": "code",
   "execution_count": 12,
   "metadata": {},
   "outputs": [
    {
     "data": {
      "text/plain": [
       "3"
      ]
     },
     "execution_count": 12,
     "metadata": {},
     "output_type": "execute_result"
    }
   ],
   "source": [
    "from collections import Counter\n",
    "def mode(li):\n",
    "    counts = Counter(li)\n",
    "    return counts.most_common(1)[0][0]\n",
    "    \n",
    "mode([1, 2, 2, 2, 3, 3, 3, 3, 3, 3, 4, 5, 5, 6, 7])"
   ]
  },
  {
   "cell_type": "code",
   "execution_count": 11,
   "metadata": {},
   "outputs": [
    {
     "data": {
      "text/plain": [
       "193.87190082644628"
      ]
     },
     "execution_count": 11,
     "metadata": {},
     "output_type": "execute_result"
    }
   ],
   "source": [
    "# calculating the mean\n",
    "sum(calories) / len(calories)"
   ]
  },
  {
   "cell_type": "code",
   "execution_count": 22,
   "metadata": {},
   "outputs": [],
   "source": [
    "# if we need the mean, we'll have to sort first\n",
    "sorted_calories = sorted(calories)"
   ]
  },
  {
   "cell_type": "code",
   "execution_count": 23,
   "metadata": {},
   "outputs": [],
   "source": [
    "# calculating the median\n",
    "# if there is an even number of elements, we'll have to take average of middle two\n",
    "\n",
    "def median(d):\n",
    "    middle_index = len(d) // 2\n",
    "    if len(d) % 2 == 0:\n",
    "        return (d[middle_index] + d[middle_index + 1]) / 2\n",
    "    else: \n",
    "        return d[middle_index]\n"
   ]
  },
  {
   "cell_type": "code",
   "execution_count": 24,
   "metadata": {},
   "outputs": [
    {
     "data": {
      "text/plain": [
       "190.0"
      ]
     },
     "execution_count": 24,
     "metadata": {},
     "output_type": "execute_result"
    }
   ],
   "source": [
    "median(sorted_calories)"
   ]
  },
  {
   "cell_type": "code",
   "execution_count": 32,
   "metadata": {},
   "outputs": [],
   "source": [
    "# note that outliers may not affect the median, whereas they can throw off the mean!\n",
    "\n",
    "copy_sorted_calories = sorted_calories[:]\n",
    "\n",
    "# change the last value...\n",
    "copy_sorted_calories[-1] = 200000"
   ]
  },
  {
   "cell_type": "code",
   "execution_count": 33,
   "metadata": {},
   "outputs": [
    {
     "data": {
      "text/plain": [
       "1018.2107438016529"
      ]
     },
     "execution_count": 33,
     "metadata": {},
     "output_type": "execute_result"
    }
   ],
   "source": [
    "sum(copy_sorted_calories) / len(copy_sorted_calories)"
   ]
  },
  {
   "cell_type": "code",
   "execution_count": 34,
   "metadata": {},
   "outputs": [
    {
     "data": {
      "text/plain": [
       "190.0"
      ]
     },
     "execution_count": 34,
     "metadata": {},
     "output_type": "execute_result"
    }
   ],
   "source": [
    "median(copy_sorted_calories)"
   ]
  },
  {
   "cell_type": "code",
   "execution_count": 91,
   "metadata": {},
   "outputs": [],
   "source": [
    "# otoh adding / removing several values that aren't outliers may make the median jump, \n",
    "# whereas the mean may only change slightly"
   ]
  },
  {
   "cell_type": "code",
   "execution_count": 92,
   "metadata": {},
   "outputs": [],
   "source": [
    "copy_sorted_calories = [150] * 20 + sorted_calories[:]"
   ]
  },
  {
   "cell_type": "code",
   "execution_count": 93,
   "metadata": {},
   "outputs": [
    {
     "data": {
      "text/plain": [
       "190.5229007633588"
      ]
     },
     "execution_count": 93,
     "metadata": {},
     "output_type": "execute_result"
    }
   ],
   "source": [
    "sum(copy_sorted_calories) / len(copy_sorted_calories)"
   ]
  },
  {
   "cell_type": "code",
   "execution_count": 94,
   "metadata": {},
   "outputs": [
    {
     "data": {
      "text/plain": [
       "180.0"
      ]
     },
     "execution_count": 94,
     "metadata": {},
     "output_type": "execute_result"
    }
   ],
   "source": [
    "median(copy_sorted_calories)"
   ]
  },
  {
   "cell_type": "code",
   "execution_count": 95,
   "metadata": {},
   "outputs": [
    {
     "data": {
      "text/plain": [
       "11"
      ]
     },
     "execution_count": 95,
     "metadata": {},
     "output_type": "execute_result"
    }
   ],
   "source": [
    "# note that there are so many values that are 190 above that it's tough to change\n",
    "# that without adding several values like we did abovekkkk\n",
    "sorted_calories.count(190)"
   ]
  },
  {
   "cell_type": "code",
   "execution_count": null,
   "metadata": {},
   "outputs": [],
   "source": []
  }
 ],
 "metadata": {
  "kernelspec": {
   "display_name": "Python 3",
   "language": "python",
   "name": "python3"
  },
  "language_info": {
   "codemirror_mode": {
    "name": "ipython",
    "version": 3
   },
   "file_extension": ".py",
   "mimetype": "text/x-python",
   "name": "python",
   "nbconvert_exporter": "python",
   "pygments_lexer": "ipython3",
   "version": "3.7.3"
  }
 },
 "nbformat": 4,
 "nbformat_minor": 4
}
